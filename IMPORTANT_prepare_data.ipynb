{
 "cells": [
  {
   "cell_type": "markdown",
   "id": "795b51e9",
   "metadata": {
    "toc": true
   },
   "source": [
    "<h1>Table of Contents<span class=\"tocSkip\"></span></h1>\n",
    "<div class=\"toc\"><ul class=\"toc-item\"><li><span><a href=\"#Загрузка-данных\" data-toc-modified-id=\"Загрузка-данных-1\"><span class=\"toc-item-num\">1&nbsp;&nbsp;</span>Загрузка данных</a></span></li><li><span><a href=\"#CLASS---классы-бронирования---конкатенация-в-один-файл\" data-toc-modified-id=\"CLASS---классы-бронирования---конкатенация-в-один-файл-2\"><span class=\"toc-item-num\">2&nbsp;&nbsp;</span>CLASS - классы бронирования - конкатенация в один файл</a></span></li><li><span><a href=\"#Короткая-версия-датасета\" data-toc-modified-id=\"Короткая-версия-датасета-3\"><span class=\"toc-item-num\">3&nbsp;&nbsp;</span>Короткая версия датасета</a></span></li></ul></div>"
   ]
  },
  {
   "cell_type": "code",
   "execution_count": 1,
   "id": "e20fe8df",
   "metadata": {},
   "outputs": [
    {
     "data": {
      "text/html": [
       "<style>.container { width:100% !important; }</style>"
      ],
      "text/plain": [
       "<IPython.core.display.HTML object>"
      ]
     },
     "metadata": {},
     "output_type": "display_data"
    }
   ],
   "source": [
    "from IPython.display import display, HTML\n",
    "display(HTML(\"<style>.container { width:100% !important; }</style>\"))"
   ]
  },
  {
   "cell_type": "code",
   "execution_count": 2,
   "id": "6895203c",
   "metadata": {},
   "outputs": [],
   "source": [
    "from os import listdir\n",
    "from os.path import isfile, join\n",
    "import pandas as pd"
   ]
  },
  {
   "cell_type": "markdown",
   "id": "6512abc3",
   "metadata": {},
   "source": [
    "# Загрузка данных"
   ]
  },
  {
   "cell_type": "markdown",
   "id": "7d601351",
   "metadata": {},
   "source": [
    "Необходимо, чтобы все файлики с информацией о классах бронирования были распакованы и лежали в папке **data**. Код далее выгружает все имена соответсвующих файлов в формате **csv**:"
   ]
  },
  {
   "cell_type": "code",
   "execution_count": 3,
   "id": "2dc8c298",
   "metadata": {},
   "outputs": [
    {
     "data": {
      "text/plain": [
       "['data/CLASS_012018.csv',\n",
       " 'data/CLASS_012019.csv',\n",
       " 'data/CLASS_022018.csv',\n",
       " 'data/CLASS_022019.csv',\n",
       " 'data/CLASS_032018.csv',\n",
       " 'data/CLASS_032019.csv',\n",
       " 'data/CLASS_042018.csv',\n",
       " 'data/CLASS_042019.csv',\n",
       " 'data/CLASS_052018.csv',\n",
       " 'data/CLASS_052019.csv',\n",
       " 'data/CLASS_062018.csv',\n",
       " 'data/CLASS_062019.csv',\n",
       " 'data/CLASS_072018.csv',\n",
       " 'data/CLASS_072019.csv',\n",
       " 'data/CLASS_082018.csv',\n",
       " 'data/CLASS_082019.csv',\n",
       " 'data/CLASS_092018.csv',\n",
       " 'data/CLASS_092019.csv',\n",
       " 'data/CLASS_102018.csv',\n",
       " 'data/CLASS_102019.csv',\n",
       " 'data/CLASS_112018.csv',\n",
       " 'data/CLASS_112019.csv',\n",
       " 'data/CLASS_122018.csv',\n",
       " 'data/CLASS_122019.csv',\n",
       " 'data/CLEAR_CLASS_TO_USE_short.zip',\n",
       " 'data/RASP2020.csv']"
      ]
     },
     "execution_count": 3,
     "metadata": {},
     "output_type": "execute_result"
    }
   ],
   "source": [
    "all_files = ['data/'+f for f in listdir('data/') if isfile(join('data/', f))]\n",
    "all_files"
   ]
  },
  {
   "cell_type": "markdown",
   "id": "92af30f8",
   "metadata": {},
   "source": [
    "# CLASS - классы бронирования - конкатенация в один файл"
   ]
  },
  {
   "cell_type": "markdown",
   "id": "29564aca",
   "metadata": {},
   "source": [
    "Соберем все файлы в один, так нам будет удобнее работать:"
   ]
  },
  {
   "cell_type": "code",
   "execution_count": 4,
   "id": "f1685a56",
   "metadata": {},
   "outputs": [
    {
     "name": "stdout",
     "output_type": "stream",
     "text": [
      "(92726552, 17)\n"
     ]
    }
   ],
   "source": [
    "classes = [i for i in all_files if i.startswith('data/CLASS')]\n",
    "df_class = pd.concat([pd.read_csv(filename, sep=';') for filename in classes])\n",
    "print(df_class.shape)"
   ]
  },
  {
   "cell_type": "markdown",
   "id": "abf7104a",
   "metadata": {},
   "source": [
    "Оставим только те записи по рейсам, у которых дата до вылета положительна (именно на них будем строить динамику):"
   ]
  },
  {
   "cell_type": "code",
   "execution_count": 5,
   "id": "66ddd173",
   "metadata": {},
   "outputs": [],
   "source": [
    "df_class = df_class[df_class['DTD'] > -1][['SDAT_S', 'DD', 'DTD',  'FLT_NUM', 'SORG', 'SDST', 'SEG_CLASS_CODE', 'PASS_BK']]"
   ]
  },
  {
   "cell_type": "code",
   "execution_count": 6,
   "id": "3ce995b6",
   "metadata": {},
   "outputs": [],
   "source": [
    "df_class['SDAT_S'] = pd.to_datetime(df_class['SDAT_S'], format='%d.%m.%Y')\n",
    "df_class['DD'] = pd.to_datetime(df_class['DD'], format='%d.%m.%Y')"
   ]
  },
  {
   "cell_type": "markdown",
   "id": "f08b3bfc",
   "metadata": {},
   "source": [
    "Сохраним полученный файл. С ним будет работать наше приложение:"
   ]
  },
  {
   "cell_type": "code",
   "execution_count": null,
   "id": "bb1a2456",
   "metadata": {},
   "outputs": [],
   "source": [
    "df_class.to_parquet('data/CLEAR_CLASS_TO_USE.parquet')"
   ]
  },
  {
   "cell_type": "code",
   "execution_count": 7,
   "id": "ac88c033",
   "metadata": {},
   "outputs": [
    {
     "data": {
      "text/html": [
       "<div>\n",
       "<style scoped>\n",
       "    .dataframe tbody tr th:only-of-type {\n",
       "        vertical-align: middle;\n",
       "    }\n",
       "\n",
       "    .dataframe tbody tr th {\n",
       "        vertical-align: top;\n",
       "    }\n",
       "\n",
       "    .dataframe thead th {\n",
       "        text-align: right;\n",
       "    }\n",
       "</style>\n",
       "<table border=\"1\" class=\"dataframe\">\n",
       "  <thead>\n",
       "    <tr style=\"text-align: right;\">\n",
       "      <th></th>\n",
       "      <th>SDAT_S</th>\n",
       "      <th>DD</th>\n",
       "      <th>DTD</th>\n",
       "      <th>FLT_NUM</th>\n",
       "      <th>SORG</th>\n",
       "      <th>SDST</th>\n",
       "      <th>SEG_CLASS_CODE</th>\n",
       "      <th>PASS_BK</th>\n",
       "    </tr>\n",
       "  </thead>\n",
       "  <tbody>\n",
       "    <tr>\n",
       "      <th>16126</th>\n",
       "      <td>2017-07-10</td>\n",
       "      <td>2018-01-04</td>\n",
       "      <td>178</td>\n",
       "      <td>1120</td>\n",
       "      <td>SVO</td>\n",
       "      <td>AER</td>\n",
       "      <td>I</td>\n",
       "      <td>0</td>\n",
       "    </tr>\n",
       "    <tr>\n",
       "      <th>16127</th>\n",
       "      <td>2017-07-10</td>\n",
       "      <td>2018-01-04</td>\n",
       "      <td>178</td>\n",
       "      <td>1120</td>\n",
       "      <td>SVO</td>\n",
       "      <td>AER</td>\n",
       "      <td>Z</td>\n",
       "      <td>0</td>\n",
       "    </tr>\n",
       "    <tr>\n",
       "      <th>16128</th>\n",
       "      <td>2017-07-10</td>\n",
       "      <td>2018-01-04</td>\n",
       "      <td>178</td>\n",
       "      <td>1120</td>\n",
       "      <td>SVO</td>\n",
       "      <td>AER</td>\n",
       "      <td>O</td>\n",
       "      <td>0</td>\n",
       "    </tr>\n",
       "    <tr>\n",
       "      <th>16129</th>\n",
       "      <td>2017-07-10</td>\n",
       "      <td>2018-01-04</td>\n",
       "      <td>178</td>\n",
       "      <td>1120</td>\n",
       "      <td>SVO</td>\n",
       "      <td>AER</td>\n",
       "      <td>Y</td>\n",
       "      <td>0</td>\n",
       "    </tr>\n",
       "    <tr>\n",
       "      <th>16130</th>\n",
       "      <td>2017-07-10</td>\n",
       "      <td>2018-01-04</td>\n",
       "      <td>178</td>\n",
       "      <td>1120</td>\n",
       "      <td>SVO</td>\n",
       "      <td>AER</td>\n",
       "      <td>B</td>\n",
       "      <td>0</td>\n",
       "    </tr>\n",
       "  </tbody>\n",
       "</table>\n",
       "</div>"
      ],
      "text/plain": [
       "          SDAT_S         DD  DTD  FLT_NUM SORG SDST SEG_CLASS_CODE  PASS_BK\n",
       "16126 2017-07-10 2018-01-04  178     1120  SVO  AER              I        0\n",
       "16127 2017-07-10 2018-01-04  178     1120  SVO  AER              Z        0\n",
       "16128 2017-07-10 2018-01-04  178     1120  SVO  AER              O        0\n",
       "16129 2017-07-10 2018-01-04  178     1120  SVO  AER              Y        0\n",
       "16130 2017-07-10 2018-01-04  178     1120  SVO  AER              B        0"
      ]
     },
     "execution_count": 7,
     "metadata": {},
     "output_type": "execute_result"
    }
   ],
   "source": [
    "df_class.head()"
   ]
  },
  {
   "cell_type": "markdown",
   "id": "11a41e7b",
   "metadata": {},
   "source": [
    "# Короткая версия датасета"
   ]
  },
  {
   "cell_type": "markdown",
   "id": "89a3eaa8",
   "metadata": {},
   "source": [
    "Полный файл отрабатывает долго. Можно использовать его сокращенную версию. Именно ее мы загрузили в git-репо."
   ]
  },
  {
   "cell_type": "code",
   "execution_count": null,
   "id": "0a2607b8",
   "metadata": {},
   "outputs": [],
   "source": [
    "df_class_short = df_class[df_class['FLT_NUM'].isin([1120, 1125, 1175, 1172])]\n",
    "df_class_short.to_parquet('data/CLEAR_CLASS_TO_USE_short.parquet')"
   ]
  }
 ],
 "metadata": {
  "kernelspec": {
   "display_name": "Python 3 (ipykernel)",
   "language": "python",
   "name": "python3"
  },
  "language_info": {
   "codemirror_mode": {
    "name": "ipython",
    "version": 3
   },
   "file_extension": ".py",
   "mimetype": "text/x-python",
   "name": "python",
   "nbconvert_exporter": "python",
   "pygments_lexer": "ipython3",
   "version": "3.9.12"
  },
  "toc": {
   "base_numbering": 1,
   "nav_menu": {},
   "number_sections": true,
   "sideBar": true,
   "skip_h1_title": false,
   "title_cell": "Table of Contents",
   "title_sidebar": "Contents",
   "toc_cell": true,
   "toc_position": {
    "height": "calc(100% - 180px)",
    "left": "10px",
    "top": "150px",
    "width": "336px"
   },
   "toc_section_display": true,
   "toc_window_display": true
  }
 },
 "nbformat": 4,
 "nbformat_minor": 5
}
